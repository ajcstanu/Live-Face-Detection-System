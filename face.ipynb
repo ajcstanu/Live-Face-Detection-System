{
 "cells": [
  {
   "cell_type": "code",
   "execution_count": 6,
   "id": "34bb9cc5-2c96-4828-ab04-2cc0401492a9",
   "metadata": {},
   "outputs": [
    {
     "name": "stdout",
     "output_type": "stream",
     "text": [
      "C:\\Users\\hp\\AppData\\Local\\Programs\\Python\\Python313\\python.exe\n"
     ]
    }
   ],
   "source": [
    "import sys\n",
    "print(sys.executable)\n"
   ]
  },
  {
   "cell_type": "code",
   "execution_count": 7,
   "id": "c4c13b09-8317-4804-8fd4-f03e94f76671",
   "metadata": {},
   "outputs": [
    {
     "name": "stdout",
     "output_type": "stream",
     "text": [
      "4.12.0\n"
     ]
    }
   ],
   "source": [
    "import cv2\n",
    "print(cv2.__version__)\n"
   ]
  },
  {
   "cell_type": "code",
   "execution_count": 13,
   "id": "aca2e2f9-1978-4847-a157-a563c622ccb1",
   "metadata": {},
   "outputs": [],
   "source": [
    "import cv2"
   ]
  },
  {
   "cell_type": "code",
   "execution_count": null,
   "id": "cba016ce-6d5e-4b94-8bf0-942f92436e24",
   "metadata": {},
   "outputs": [],
   "source": [
    "\n",
    "face_cap = cv2.CascadeClassifier(\n",
    "    \"C:/Users/hp/AppData/Local/Programs/Python/Python313/Lib/site-packages/cv2/data/haarcascade_frontalface_default.xml\"\n",
    ")\n",
    "\n",
    "video_cap = cv2.VideoCapture(0)  # runtime camera\n",
    "\n",
    "while True:\n",
    "    ret, video_data = video_cap.read()\n",
    "    if not ret:\n",
    "        break\n",
    "\n",
    "    col = cv2.cvtColor(video_data, cv2.COLOR_BGR2GRAY)  # convert to grayscale\n",
    "\n",
    "    faces = face_cap.detectMultiScale(\n",
    "        col,\n",
    "        scaleFactor=1.1,\n",
    "        minNeighbors=5,\n",
    "        minSize=(30, 30),\n",
    "        flags=cv2.CASCADE_SCALE_IMAGE\n",
    "    )\n",
    "\n",
    "    for (x, y, w, h) in faces:\n",
    "        cv2.rectangle(video_data, (x, y), (x + w, y + h), (0, 255, 0), 2)\n",
    "\n",
    "    cv2.imshow(\"video_live\", video_data)\n",
    "\n",
    "    if cv2.waitKey(10) == ord(\"a\"):  # press 'a' to exit\n",
    "        break\n",
    "        \n",
    "video_cap.release()\n",
    "cv2.destroyAllWindows()\n"
   ]
  },
  {
   "cell_type": "code",
   "execution_count": 12,
   "id": "8d304e0c-46dc-49bd-aa69-2f64e9285fdf",
   "metadata": {},
   "outputs": [
    {
     "ename": "error",
     "evalue": "OpenCV(4.12.0) D:\\a\\opencv-python\\opencv-python\\opencv\\modules\\objdetect\\src\\cascadedetect.cpp:1689: error: (-215:Assertion failed) !empty() in function 'cv::CascadeClassifier::detectMultiScale'\n",
     "output_type": "error",
     "traceback": [
      "\u001b[31m----------------------------------------------------\u001b[39m",
      "\u001b[31merror\u001b[39m              Traceback (most recent call last)",
      "\u001b[36mCell\u001b[39m\u001b[36m \u001b[39m\u001b[32mIn[12]\u001b[39m\u001b[32m, line 6\u001b[39m\n\u001b[32m      4\u001b[39m ret,video_data = video_cap.read() \u001b[38;5;66;03m# for reading perpose\u001b[39;00m\n\u001b[32m      5\u001b[39m col=cv2.cvtColor(video_data,cv2.COLOR_BGR2GRAY)\u001b[38;5;66;03m# FOR Changr in color\u001b[39;00m\n\u001b[32m----> \u001b[39m\u001b[32m6\u001b[39m faces=\u001b[43mface_cap\u001b[49m\u001b[43m.\u001b[49m\u001b[43mdetectMultiScale\u001b[49m\u001b[43m(\u001b[49m\n\u001b[32m      7\u001b[39m \u001b[43m         \u001b[49m\u001b[43mcol\u001b[49m\u001b[43m,\u001b[49m\n\u001b[32m      8\u001b[39m \u001b[43m         \u001b[49m\u001b[43mscaleFactor\u001b[49m\u001b[43m=\u001b[49m\u001b[32;43m1.1\u001b[39;49m\u001b[43m,\u001b[49m\n\u001b[32m      9\u001b[39m \u001b[43m         \u001b[49m\u001b[43mminNeighbors\u001b[49m\u001b[43m=\u001b[49m\u001b[32;43m5\u001b[39;49m\u001b[43m,\u001b[49m\n\u001b[32m     10\u001b[39m \u001b[43m         \u001b[49m\u001b[43mminSize\u001b[49m\u001b[43m=\u001b[49m\u001b[43m(\u001b[49m\u001b[32;43m30\u001b[39;49m\u001b[43m,\u001b[49m\u001b[32;43m30\u001b[39;49m\u001b[43m)\u001b[49m\u001b[43m,\u001b[49m\n\u001b[32m     11\u001b[39m \u001b[43m         \u001b[49m\u001b[43mflags\u001b[49m\u001b[43m=\u001b[49m\u001b[43mcv2\u001b[49m\u001b[43m.\u001b[49m\u001b[43mCASCADE_SCALE_IMAGE\u001b[49m\n\u001b[32m     12\u001b[39m \u001b[43m \u001b[49m\u001b[43m)\u001b[49m\n\u001b[32m     13\u001b[39m \u001b[38;5;28;01mfor\u001b[39;00m(x,y,w,h) \u001b[38;5;129;01min\u001b[39;00m faces:\n\u001b[32m     14\u001b[39m     cv2.rectangle(video_data,(x,y),(x+w, y+h),(\u001b[32m0\u001b[39m,\u001b[32m255\u001b[39m,\u001b[32m0\u001b[39m),\u001b[32m2\u001b[39m)\n",
      "\u001b[31merror\u001b[39m: OpenCV(4.12.0) D:\\a\\opencv-python\\opencv-python\\opencv\\modules\\objdetect\\src\\cascadedetect.cpp:1689: error: (-215:Assertion failed) !empty() in function 'cv::CascadeClassifier::detectMultiScale'\n"
     ]
    }
   ],
   "source": [
    "# face_cap=cv2.CascadeClassifier(\"C:/Users/hp/AppData/Local/Programs/ython/Python313/Lib/site-packages/cv2/data/haarcascade_frontalface_default\")\n",
    "# video_cap=cv2.VideoCapture(0) #run time camer\n",
    "# while True:\n",
    "#     ret,video_data = video_cap.read() # for reading perpose\n",
    "#     col=cv2.cvtColor(video_data,cv2.COLOR_BGR2GRAY)# FOR Changr in color\n",
    "#     faces=face_cap.detectMultiScale(\n",
    "#              col,\n",
    "#              scaleFactor=1.1,\n",
    "#              minNeighbors=5,\n",
    "#              minSize=(30,30),\n",
    "#              flags=cv2.CASCADE_SCALE_IMAGE\n",
    "#      )\n",
    "#     for(x,y,w,h) in faces:\n",
    "#         cv2.rectangle(video_data,(x,y),(x+w, y+h),(0,255,0),2)\n",
    "             \n",
    "#     cv2.imshow(\"video_live\", video_data)\n",
    "#     if cv2.waitKey(10) == ord(\"a\"): # for off the camera\n",
    "#         break\n",
    "# video_cap.release()"
   ]
  },
  {
   "cell_type": "code",
   "execution_count": null,
   "id": "19240642-cdc1-4db8-b174-41b499e0aa42",
   "metadata": {},
   "outputs": [],
   "source": [
    "# #open the camer  \n",
    "# video_cap=cv2.VideoCapture(0) #run time camer\n",
    "# while True:\n",
    "#     ret,video_data = video_cap.read() # for reading perpose\n",
    "#     cv2.imshow(\"video_live\", video_data)\n",
    "#     if cv2.waitKey(10) == ord(\"a\"): # for off the camera\n",
    "#         break\n",
    "# video_cap.release()\n",
    "    "
   ]
  },
  {
   "cell_type": "code",
   "execution_count": null,
   "id": "837009a2-6bd4-47b6-92f1-c4f8a21b61df",
   "metadata": {},
   "outputs": [],
   "source": []
  },
  {
   "cell_type": "code",
   "execution_count": null,
   "id": "d955b199-a3a0-4f90-a2ca-4d88e0bfca3a",
   "metadata": {},
   "outputs": [],
   "source": []
  }
 ],
 "metadata": {
  "kernelspec": {
   "display_name": "Python 3.13",
   "language": "python",
   "name": "python313"
  },
  "language_info": {
   "codemirror_mode": {
    "name": "ipython",
    "version": 3
   },
   "file_extension": ".py",
   "mimetype": "text/x-python",
   "name": "python",
   "nbconvert_exporter": "python",
   "pygments_lexer": "ipython3",
   "version": "3.13.3"
  }
 },
 "nbformat": 4,
 "nbformat_minor": 5
}
